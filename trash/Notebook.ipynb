{
 "cells": [
  {
   "cell_type": "markdown",
   "metadata": {},
   "source": [
    "# Support Vector Machines"
   ]
  },
  {
   "cell_type": "code",
   "execution_count": null,
   "metadata": {},
   "outputs": [],
   "source": [
    "!pip uninstall numpy"
   ]
  },
  {
   "cell_type": "code",
   "execution_count": 2,
   "metadata": {},
   "outputs": [
    {
     "ename": "AttributeError",
     "evalue": "module 'numpy' has no attribute 'float'",
     "output_type": "error",
     "traceback": [
      "\u001b[1;31m---------------------------------------------------------------------------\u001b[0m",
      "\u001b[1;31mAttributeError\u001b[0m                            Traceback (most recent call last)",
      "\u001b[1;32m<ipython-input-2-812a78a3ebd8>\u001b[0m in \u001b[0;36m<module>\u001b[1;34m\u001b[0m\n\u001b[0;32m      4\u001b[0m \u001b[1;32mfrom\u001b[0m \u001b[0mscipy\u001b[0m\u001b[1;33m.\u001b[0m\u001b[0mlinalg\u001b[0m \u001b[1;32mimport\u001b[0m \u001b[0mcho_factor\u001b[0m\u001b[1;33m,\u001b[0m \u001b[0mcho_solve\u001b[0m\u001b[1;33m\u001b[0m\u001b[1;33m\u001b[0m\u001b[0m\n\u001b[0;32m      5\u001b[0m \u001b[1;32mimport\u001b[0m \u001b[0mmatplotlib\u001b[0m\u001b[1;33m.\u001b[0m\u001b[0mpyplot\u001b[0m \u001b[1;32mas\u001b[0m \u001b[0mplt\u001b[0m\u001b[1;33m\u001b[0m\u001b[1;33m\u001b[0m\u001b[0m\n\u001b[1;32m----> 6\u001b[1;33m \u001b[1;32mfrom\u001b[0m \u001b[0mutils\u001b[0m \u001b[1;32mimport\u001b[0m \u001b[0mplotClassification\u001b[0m\u001b[1;33m,\u001b[0m \u001b[0mplotRegression\u001b[0m\u001b[1;33m,\u001b[0m \u001b[0mplot_multiple_images\u001b[0m\u001b[1;33m,\u001b[0m \u001b[0mgenerateRings\u001b[0m\u001b[1;33m,\u001b[0m \u001b[0mscatter_label_points\u001b[0m\u001b[1;33m,\u001b[0m \u001b[0mloadMNIST\u001b[0m\u001b[1;33m\u001b[0m\u001b[1;33m\u001b[0m\u001b[0m\n\u001b[0m\u001b[0;32m      7\u001b[0m \u001b[1;33m\u001b[0m\u001b[0m\n\u001b[0;32m      8\u001b[0m \u001b[1;33m\u001b[0m\u001b[0m\n",
      "\u001b[1;32m~\\OneDrive - Université Paris Sciences et Lettres\\file_mva\\Kernel\\hw2\\code\\utils.py\u001b[0m in \u001b[0;36m<module>\u001b[1;34m\u001b[0m\n\u001b[0;32m      1\u001b[0m \u001b[1;32mimport\u001b[0m \u001b[0mnumpy\u001b[0m \u001b[1;32mas\u001b[0m \u001b[0mnp\u001b[0m\u001b[1;33m\u001b[0m\u001b[1;33m\u001b[0m\u001b[0m\n\u001b[0;32m      2\u001b[0m \u001b[1;33m\u001b[0m\u001b[0m\n\u001b[1;32m----> 3\u001b[1;33m \u001b[1;32mfrom\u001b[0m \u001b[0msklearn\u001b[0m \u001b[1;32mimport\u001b[0m \u001b[0msvm\u001b[0m\u001b[1;33m,\u001b[0m \u001b[0mlinear_model\u001b[0m\u001b[1;33m,\u001b[0m \u001b[0mdiscriminant_analysis\u001b[0m\u001b[1;33m,\u001b[0m \u001b[0mmetrics\u001b[0m\u001b[1;33m\u001b[0m\u001b[1;33m\u001b[0m\u001b[0m\n\u001b[0m\u001b[0;32m      4\u001b[0m \u001b[1;32mfrom\u001b[0m \u001b[0mscipy\u001b[0m \u001b[1;32mimport\u001b[0m \u001b[0moptimize\u001b[0m\u001b[1;33m\u001b[0m\u001b[1;33m\u001b[0m\u001b[0m\n\u001b[0;32m      5\u001b[0m \u001b[1;32mfrom\u001b[0m \u001b[0mscipy\u001b[0m\u001b[1;33m.\u001b[0m\u001b[0mlinalg\u001b[0m \u001b[1;32mimport\u001b[0m \u001b[0mcho_factor\u001b[0m\u001b[1;33m,\u001b[0m \u001b[0mcho_solve\u001b[0m\u001b[1;33m\u001b[0m\u001b[1;33m\u001b[0m\u001b[0m\n",
      "\u001b[1;32m~\\anaconda3\\lib\\site-packages\\sklearn\\linear_model\\__init__.py\u001b[0m in \u001b[0;36m<module>\u001b[1;34m\u001b[0m\n\u001b[0;32m      9\u001b[0m \u001b[1;32mfrom\u001b[0m \u001b[1;33m.\u001b[0m\u001b[0m_base\u001b[0m \u001b[1;32mimport\u001b[0m \u001b[0mLinearRegression\u001b[0m\u001b[1;33m\u001b[0m\u001b[1;33m\u001b[0m\u001b[0m\n\u001b[0;32m     10\u001b[0m \u001b[1;32mfrom\u001b[0m \u001b[1;33m.\u001b[0m\u001b[0m_bayes\u001b[0m \u001b[1;32mimport\u001b[0m \u001b[0mBayesianRidge\u001b[0m\u001b[1;33m,\u001b[0m \u001b[0mARDRegression\u001b[0m\u001b[1;33m\u001b[0m\u001b[1;33m\u001b[0m\u001b[0m\n\u001b[1;32m---> 11\u001b[1;33m from ._least_angle import (Lars, LassoLars, lars_path, lars_path_gram, LarsCV,\n\u001b[0m\u001b[0;32m     12\u001b[0m                            LassoLarsCV, LassoLarsIC)\n\u001b[0;32m     13\u001b[0m from ._coordinate_descent import (Lasso, ElasticNet, LassoCV, ElasticNetCV,\n",
      "\u001b[1;32m~\\anaconda3\\lib\\site-packages\\sklearn\\linear_model\\_least_angle.py\u001b[0m in \u001b[0;36m<module>\u001b[1;34m\u001b[0m\n\u001b[0;32m     32\u001b[0m \u001b[1;33m@\u001b[0m\u001b[0m_deprecate_positional_args\u001b[0m\u001b[1;33m\u001b[0m\u001b[1;33m\u001b[0m\u001b[0m\n\u001b[0;32m     33\u001b[0m def lars_path(X, y, Xy=None, *, Gram=None, max_iter=500, alpha_min=0,\n\u001b[1;32m---> 34\u001b[1;33m               \u001b[0mmethod\u001b[0m\u001b[1;33m=\u001b[0m\u001b[1;34m'lar'\u001b[0m\u001b[1;33m,\u001b[0m \u001b[0mcopy_X\u001b[0m\u001b[1;33m=\u001b[0m\u001b[1;32mTrue\u001b[0m\u001b[1;33m,\u001b[0m \u001b[0meps\u001b[0m\u001b[1;33m=\u001b[0m\u001b[0mnp\u001b[0m\u001b[1;33m.\u001b[0m\u001b[0mfinfo\u001b[0m\u001b[1;33m(\u001b[0m\u001b[0mnp\u001b[0m\u001b[1;33m.\u001b[0m\u001b[0mfloat\u001b[0m\u001b[1;33m)\u001b[0m\u001b[1;33m.\u001b[0m\u001b[0meps\u001b[0m\u001b[1;33m,\u001b[0m\u001b[1;33m\u001b[0m\u001b[1;33m\u001b[0m\u001b[0m\n\u001b[0m\u001b[0;32m     35\u001b[0m               \u001b[0mcopy_Gram\u001b[0m\u001b[1;33m=\u001b[0m\u001b[1;32mTrue\u001b[0m\u001b[1;33m,\u001b[0m \u001b[0mverbose\u001b[0m\u001b[1;33m=\u001b[0m\u001b[1;36m0\u001b[0m\u001b[1;33m,\u001b[0m \u001b[0mreturn_path\u001b[0m\u001b[1;33m=\u001b[0m\u001b[1;32mTrue\u001b[0m\u001b[1;33m,\u001b[0m\u001b[1;33m\u001b[0m\u001b[1;33m\u001b[0m\u001b[0m\n\u001b[0;32m     36\u001b[0m               return_n_iter=False, positive=False):\n",
      "\u001b[1;32m~\\anaconda3\\lib\\site-packages\\numpy\\__init__.py\u001b[0m in \u001b[0;36m__getattr__\u001b[1;34m(attr)\u001b[0m\n\u001b[0;32m    282\u001b[0m             \u001b[1;32mreturn\u001b[0m \u001b[0mTester\u001b[0m\u001b[1;33m\u001b[0m\u001b[1;33m\u001b[0m\u001b[0m\n\u001b[0;32m    283\u001b[0m \u001b[1;33m\u001b[0m\u001b[0m\n\u001b[1;32m--> 284\u001b[1;33m         raise AttributeError(\"module {!r} has no attribute \"\n\u001b[0m\u001b[0;32m    285\u001b[0m                              \"{!r}\".format(__name__, attr))\n\u001b[0;32m    286\u001b[0m \u001b[1;33m\u001b[0m\u001b[0m\n",
      "\u001b[1;31mAttributeError\u001b[0m: module 'numpy' has no attribute 'float'"
     ]
    }
   ],
   "source": [
    "import numpy as np\n",
    "import pickle as pkl\n",
    "from scipy import optimize\n",
    "from scipy.linalg import cho_factor, cho_solve\n",
    "import matplotlib.pyplot as plt\n",
    "from utils import plotClassification, plotRegression, plot_multiple_images, generateRings, scatter_label_points, loadMNIST\n",
    "\n",
    "\n",
    "\n"
   ]
  },
  {
   "cell_type": "markdown",
   "metadata": {},
   "source": [
    "## Loading the data\n",
    "\n",
    "The file 'classification_datasets' contains 3 small classification datasets:\n",
    "    \n",
    "    - dataset_1: mixture of two well separated gaussians\n",
    "    - dataset_2: mixture of two gaussians that are not separeted\n",
    "    - dataset_3: XOR dataset that is non-linearly separable.\n",
    "   \n",
    "Each dataset is a hierarchical dictionary with the following structure:\n",
    "        \n",
    "        dataset = {'train': {'x': data, 'y':label}\n",
    "                    'test': {'x': data, 'y':label}\n",
    "                  }\n",
    "The data $x$ is an $N$ by $2$ matrix, while the label $y$ is a vector of size $N$. \n",
    "\n",
    "Only the third dateset is used. "
   ]
  },
  {
   "cell_type": "code",
   "execution_count": null,
   "metadata": {},
   "outputs": [],
   "source": [
    "file = open('datasets/classification_datasets', 'rb')\n",
    "datasets = pkl.load(file)\n",
    "file.close()\n",
    "dataset = datasets['dataset_3']\n",
    "\n",
    "fig, ax = plt.subplots(1,1, figsize=(5, 5))\n",
    "plotClassification(dataset['train']['x'], dataset['train']['y'], ax=ax)\n"
   ]
  },
  {
   "cell_type": "markdown",
   "metadata": {},
   "source": [
    "## III- Kernel SVC \n",
    "### 1- Implementing the Gaussian Kernel\n",
    "Implement the method 'kernel' of the class RBF below, which takes as input two data matrices $X$ and $Y$ of size $N\\times d$ and $M\\times d$ and returns a gramm matrix $G$ of shape $N\\times M$ whose components are $k(x_i,y_j) = \\exp(-\\Vert x_i-y_i\\Vert^2/(2\\sigma^2))$. (The fastest solution does not use any for loop!)"
   ]
  },
  {
   "cell_type": "code",
   "execution_count": null,
   "metadata": {},
   "outputs": [],
   "source": [
    "class RBF:\n",
    "    def __init__(self, sigma=1.):\n",
    "        self.sigma = sigma  ## the variance of the kernel\n",
    "    def kernel(self,X,Y):\n",
    "        ## Input vectors X and Y of shape Nxd and Mxd\n",
    "        return    ## Matrix of shape NxM"
   ]
  },
  {
   "cell_type": "markdown",
   "metadata": {},
   "source": [
    "\n",
    "### 2- Implementing the classifier\n",
    "Implement the methods 'fit' and 'separating_function' of the class KernelSVC below to learn the Kernel Support Vector Classifier."
   ]
  },
  {
   "cell_type": "code",
   "execution_count": 89,
   "metadata": {},
   "outputs": [],
   "source": [
    "class KernelSVC:\n",
    "    \n",
    "    def __init__(self, C, kernel, epsilon = 1e-3):\n",
    "        self.type = 'non-linear'\n",
    "        self.C = C                               \n",
    "        self.kernel = kernel        \n",
    "        self.alpha = None\n",
    "        self.support = None\n",
    "        self.epsilon = epsilon\n",
    "        self.norm_f = None\n",
    "       \n",
    "    \n",
    "    def fit(self, X, y):\n",
    "       #### You might define here any variable needed for the rest of the code\n",
    "        N = len(y)\n",
    "\n",
    "        # Lagrange dual problem\n",
    "        def loss(alpha):\n",
    "            return  #'''--------------dual loss ------------------ '''\n",
    "\n",
    "        # Partial derivate of Ld on alpha\n",
    "        def grad_loss(alpha):\n",
    "            return # '''----------------partial derivative of the dual loss wrt alpha -----------------'''\n",
    "\n",
    "\n",
    "        # Constraints on alpha of the shape :\n",
    "        # -  d - C*alpha  = 0\n",
    "        # -  b - A*alpha >= 0\n",
    "\n",
    "        fun_eq = lambda alpha:  # '''----------------function defining the equality constraint------------------'''        \n",
    "        jac_eq = lambda alpha:    #'''----------------jacobian wrt alpha of the  equality constraint------------------'''\n",
    "        fun_ineq = lambda alpha:   # '''---------------function defining the inequality constraint-------------------'''     \n",
    "        jac_ineq = lambda alpha:   # '''---------------jacobian wrt alpha of the  inequality constraint-------------------'''\n",
    "        \n",
    "        constraints = ({'type': 'eq',  'fun': fun_eq, 'jac': jac_eq},\n",
    "                       {'type': 'ineq', \n",
    "                        'fun': fun_ineq , \n",
    "                        'jac': jac_ineq})\n",
    "\n",
    "        optRes = optimize.minimize(fun=lambda alpha: loss(alpha),\n",
    "                                   x0=np.ones(N), \n",
    "                                   method='SLSQP', \n",
    "                                   jac=lambda alpha: grad_loss(alpha), \n",
    "                                   constraints=constraints)\n",
    "        self.alpha = optRes.x\n",
    "\n",
    "        ## Assign the required attributes\n",
    "\n",
    "        \n",
    "        self.margin_points =  #'''------------------- A matrix with each row corresponding to a point that falls on the margin ------------------'''\n",
    "        \n",
    "        self.b =  #''' -----------------offset of the classifier------------------ '''\n",
    "        self.norm_f = # '''------------------------RKHS norm of the function f ------------------------------'''\n",
    "\n",
    "\n",
    "    ### Implementation of the separting function $f$ \n",
    "    def separating_function(self,x):\n",
    "        # Input : matrix x of shape N data points times d dimension\n",
    "        # Output: vector of size N\n",
    "        return \n",
    "    \n",
    "    \n",
    "    def predict(self, X):\n",
    "        \"\"\" Predict y values in {-1, 1} \"\"\"\n",
    "        d = self.separating_function(X)\n",
    "        return 2 * (d+self.b> 0) - 1"
   ]
  },
  {
   "cell_type": "markdown",
   "metadata": {},
   "source": [
    "### 2- Fitting the classifier\n",
    "\n",
    "Run the code block below to fit the classifier and report its output."
   ]
  },
  {
   "cell_type": "code",
   "execution_count": 6,
   "metadata": {},
   "outputs": [],
   "source": [
    "sigma = 1.5\n",
    "C=100.\n",
    "kernel = RBF(sigma).kernel\n",
    "model = KernelSVC(C=C, kernel=kernel)\n",
    "train_dataset = datasets['dataset_3']['train']\n",
    "model.fit(train_dataset['x'], train_dataset['y'])\n",
    "plotClassification(train_dataset['x'], train_dataset['y'], model, label='Training')"
   ]
  },
  {
   "cell_type": "markdown",
   "metadata": {},
   "source": [
    "# Kernel Regression"
   ]
  },
  {
   "cell_type": "markdown",
   "metadata": {},
   "source": [
    "## Loading the data"
   ]
  },
  {
   "cell_type": "code",
   "execution_count": 7,
   "metadata": {},
   "outputs": [
    {
     "data": {
      "image/png": "[encoded data removed]",
      "text/plain": [
       "<Figure size 792x504 with 1 Axes>"
      ]
     },
     "metadata": {
      "needs_background": "light"
     },
     "output_type": "display_data"
    }
   ],
   "source": [
    "file = open('datasets/regression_datasets', 'rb')\n",
    "datasets = pkl.load(file)\n",
    "file.close()\n",
    "train_set = datasets['dataset_1']['train']\n",
    "train_set = datasets['dataset_1']['test']\n",
    "plotRegression(train_set['x'], train_set['y'],Y_clean= train_set['y_clean'])\n"
   ]
  },
  {
   "cell_type": "markdown",
   "metadata": {},
   "source": [
    "## Kernel Ridge Regression\n",
    "### 1- Implementing the regressor\n",
    "Implement the method 'fit' of the classes KernelRR and MultivariateKernelRR below to perform Kernel Ridge Regression. \n"
   ]
  },
  {
   "cell_type": "code",
   "execution_count": 98,
   "metadata": {},
   "outputs": [],
   "source": [
    "class KernelRR:\n",
    "    \n",
    "    def __init__(self,kernel,lmbda):\n",
    "        self.lmbda = lmbda                    \n",
    "        self.kernel = kernel    \n",
    "        self.alpha = None \n",
    "        self.b = None\n",
    "        self.support = None\n",
    "        self.type='ridge'\n",
    "        \n",
    "    def fit(self, X, y):\n",
    "        self.support = X\n",
    "        self.b = \n",
    "        self.alpha =         \n",
    "        \n",
    "    ### Implementation of the separting function $f$ \n",
    "    def regression_function(self,x):\n",
    "        # Input : matrix x of shape N data points times d dimension\n",
    "        # Output: vector of size N\n",
    "        return \n",
    "\n",
    "    \n",
    "    def predict(self, X):\n",
    "        \"\"\" Predict y values in {-1, 1} \"\"\"\n",
    "        return regression_function(X)+self.b\n",
    "\n",
    "    \n",
    "class MultivariateKernelRR:      \n",
    "    def __init__(self,kernel,lmbda):\n",
    "        self.lmbda = lmbda                    \n",
    "        self.kernel = kernel\n",
    "        self.support = None\n",
    "        self.alpha = None\n",
    "        self.b = None\n",
    "        self.type='ridge'\n",
    "    \n",
    "    def fit(self, X, y):\n",
    "        self.support = X\n",
    "        self.b = \n",
    "        self.alpha =  \n",
    "        \n",
    "    ### Implementation of the separting function $f$ \n",
    "    def regression_function(self,x):\n",
    "        # Input : matrix x of shape N data points times d dimension\n",
    "        # Output: vector of size N\n",
    "        return \n",
    "    \n",
    "    def predict(self, X):\n",
    "        \"\"\" Predict y values in {-1, 1} \"\"\"\n",
    "        return self.regression_function(X)+np.expand_dims(self.b,axis=0)\n",
    "    "
   ]
  },
  {
   "cell_type": "markdown",
   "metadata": {},
   "source": [
    "### 2- Fitting the regressor\n",
    "\n",
    "Run the code block below to fit the regressor and report its output."
   ]
  },
  {
   "cell_type": "code",
   "execution_count": 8,
   "metadata": {},
   "outputs": [],
   "source": [
    "sigma = 0.2\n",
    "lmbda = .1\n",
    "kernel = RBF(sigma).kernel\n",
    "model = KernelRR(kernel, lmbda=lmbda)\n",
    "model.fit(train_set['x'].reshape(-1,1),train_set['y'])\n",
    "plotRegression(train_set['x'], train_set['y'], Y_clean= train_set['y_clean'], model=model, label='Train')"
   ]
  },
  {
   "cell_type": "markdown",
   "metadata": {},
   "source": [
    "# Kernel PCA"
   ]
  },
  {
   "cell_type": "markdown",
   "metadata": {},
   "source": [
    "### 1- Implementing kernel PCA\n",
    "Implement the method 'fit' of the classes KernelSVR below to perform Kernel Support Vector Regression. "
   ]
  },
  {
   "cell_type": "code",
   "execution_count": 63,
   "metadata": {},
   "outputs": [],
   "source": [
    "class KernelPCA:\n",
    "    \n",
    "    def __init__(self,kernel, r=2):                             \n",
    "        self.kernel = kernel          # <---\n",
    "        self.alpha = None # Matrix of shape N times d representing the d eingenvectors alpha corresp\n",
    "        self.lmbda = None # Vector of size d representing the top d eingenvalues\n",
    "        self.support = None # Data points where the features are evaluated\n",
    "        self.r =r ## Number of principal components\n",
    "    def compute_PCA(self, X):\n",
    "        # assigns the vectors\n",
    "        self.support = X\n",
    "        self.lmbda = \n",
    "        self.alpha = \n",
    "        \n",
    "        #constraints = ({})\n",
    "        # Maximize by minimizing the opposite\n",
    "        \n",
    "    def transform(self,x):\n",
    "        # Input : matrix x of shape N data points times d dimension\n",
    "        # Output: vector of size N\n",
    "        return \n",
    "    \n"
   ]
  },
  {
   "cell_type": "markdown",
   "metadata": {},
   "source": [
    "### 2- Performing kernel PCA\n",
    "\n",
    "Run the code block below apply a kernel PCA to a dataset consisting of three concentric rings and report the output. What can you conclude about this dataset?"
   ]
  },
  {
   "cell_type": "code",
   "execution_count": 10,
   "metadata": {},
   "outputs": [],
   "source": [
    "file = open('datasets/pca_datasets', 'rb')\n",
    "datasets = pkl.load(file)\n",
    "file.close()\n",
    "train_set = datasets['dataset_1']['train']\n",
    "test_set = datasets['dataset_1']['test']\n",
    "\n",
    "sigma = 4.\n",
    "kernel = RBF(sigma).kernel\n",
    "pca = KernelPCA(kernel, r=2)\n",
    "pca.compute_PCA(train_set['x'])\n",
    "pca_components = pca.transform(test_set['x'])\n",
    "\n",
    "fig, ax = plt.subplots(1,2, figsize=(11, 4))\n",
    "scatter_label_points(test_set['x'], test_set['y'], ax[0], title='orginal data')\n",
    "scatter_label_points(pca_components,test_set['y'], ax[1], title= 'transformed data')\n",
    "\n",
    "\n"
   ]
  },
  {
   "cell_type": "markdown",
   "metadata": {},
   "source": [
    "# Denoising \n",
    "### 1- Implementing a denoiser based on Kernel PCA and Kernel Ridge Regression\n",
    "Implement the methods 'fit' and 'denoise' of the classes Denoiser below. "
   ]
  },
  {
   "cell_type": "code",
   "execution_count": 65,
   "metadata": {},
   "outputs": [],
   "source": [
    "class Denoiser:\n",
    "    def __init__(self, kernel_encoder, kernel_decoder,dim_pca, lmbda):\n",
    "        self.pca = KernelPCA(kernel_encoder, r=dim_pca)\n",
    "        self.ridge_reg = MultivariateKernelRR(kernel_decoder, lmbda= lmbda)\n",
    "    \n",
    "    def fit(self,train):\n",
    "\n",
    "        \n",
    "    def denoise(self,test):\n",
    "        \n",
    "        return "
   ]
  },
  {
   "cell_type": "markdown",
   "metadata": {},
   "source": [
    "### 2- Denoising MNIST dataset\n",
    "\n",
    "Run the code block below to perform denoising of a subset of MNIST digits dataset and report the output. To what extend the denoising is successful? How can it be improved?"
   ]
  },
  {
   "cell_type": "code",
   "execution_count": 11,
   "metadata": {},
   "outputs": [],
   "source": [
    "datasets = loadMNIST('datasets/SubsetMNIST')\n",
    "clean_data = datasets['cleanMNIST']\n",
    "data = datasets['noisyMNIST']\n",
    "\n",
    "\n",
    "dim_pca =80\n",
    "lmbda = 10.\n",
    "sigma_encoder =8.\n",
    "sigma_decoder =.5\n",
    "kernel_encoder = RBF(sigma_encoder).kernel\n",
    "kernel_decoder = RBF(sigma_decoder).kernel\n",
    "denoiser = Denoiser(kernel_encoder,kernel_decoder,dim_pca, lmbda)\n",
    "\n",
    "denoiser.fit(data['train'])\n",
    "pred = denoiser.denoise(data['test'])\n",
    "\n",
    "plot_multiple_images(clean_data['test'])\n",
    "plot_multiple_images(data['test'])\n",
    "plot_multiple_images(pred)"
   ]
  }
 ],
 "metadata": {
  "hide_input": false,
  "kernelspec": {
   "display_name": "Python 3",
   "language": "python",
   "name": "python3"
  },
  "language_info": {
   "codemirror_mode": {
    "name": "ipython",
    "version": 3
   },
   "file_extension": ".py",
   "mimetype": "text/x-python",
   "name": "python",
   "nbconvert_exporter": "python",
   "pygments_lexer": "ipython3",
   "version": "3.8.5"
  },
  "toc": {
   "base_numbering": 1,
   "nav_menu": {},
   "number_sections": true,
   "sideBar": true,
   "skip_h1_title": false,
   "title_cell": "Table of Contents",
   "title_sidebar": "Contents",
   "toc_cell": false,
   "toc_position": {},
   "toc_section_display": true,
   "toc_window_display": false
  }
 },
 "nbformat": 4,
 "nbformat_minor": 5
}
